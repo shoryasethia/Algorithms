{
 "cells": [
  {
   "cell_type": "code",
   "execution_count": 6,
   "metadata": {},
   "outputs": [
    {
     "name": "stdout",
     "output_type": "stream",
     "text": [
      "Solution: [ 3.  1. -2.  1.]\n"
     ]
    }
   ],
   "source": [
    "import numpy as np\n",
    "\n",
    "def gauss_jordan_elimination(A, b):\n",
    "    n = len(A)\n",
    "    \n",
    "    # Convert input arrays to float type\n",
    "    A = A.astype(float)\n",
    "    b = b.astype(float)\n",
    "    \n",
    "    # Augmenting the matrix A with vector b\n",
    "    augmented_matrix = np.column_stack((A, b))\n",
    "    \n",
    "    # Forward elimination\n",
    "    for i in range(n):\n",
    "        # Partial pivoting\n",
    "        max_row = np.argmax(np.abs(augmented_matrix[i:, i])) + i\n",
    "        augmented_matrix[[i, max_row]] = augmented_matrix[[max_row, i]]\n",
    "        \n",
    "        # Make the diagonal element 1\n",
    "        diagonal_element = augmented_matrix[i, i]\n",
    "        augmented_matrix[i] /= diagonal_element\n",
    "        \n",
    "        # Elimination\n",
    "        for j in range(n):\n",
    "            if i != j:\n",
    "                augmented_matrix[j] -= augmented_matrix[j, i] * augmented_matrix[i]\n",
    "    \n",
    "    # Extract solution\n",
    "    x = augmented_matrix[:, -1]\n",
    "    return x\n",
    "\n",
    "# Example usage:\n",
    "A = np.array([[3, -1, 1, 2],\n",
    "              [6, -4, 3, 5],\n",
    "              [3, -13, 9, 3],\n",
    "              [-6, 4, 1, -18]], dtype=float)\n",
    "b = np.array([8, 13, -19, -34], dtype=float)\n",
    "\n",
    "solution = gauss_jordan_elimination(A, b)\n",
    "print(\"Solution:\", solution)\n"
   ]
  }
 ],
 "metadata": {
  "kernelspec": {
   "display_name": "Python 3",
   "language": "python",
   "name": "python3"
  },
  "language_info": {
   "codemirror_mode": {
    "name": "ipython",
    "version": 3
   },
   "file_extension": ".py",
   "mimetype": "text/x-python",
   "name": "python",
   "nbconvert_exporter": "python",
   "pygments_lexer": "ipython3",
   "version": "3.12.0"
  }
 },
 "nbformat": 4,
 "nbformat_minor": 2
}
