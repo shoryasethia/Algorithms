{
 "cells": [
  {
   "cell_type": "markdown",
   "metadata": {},
   "source": [
    "# BISECTION METHOD"
   ]
  },
  {
   "cell_type": "code",
   "execution_count": 1,
   "metadata": {},
   "outputs": [],
   "source": [
    "import math as m"
   ]
  },
  {
   "cell_type": "code",
   "execution_count": 4,
   "metadata": {},
   "outputs": [],
   "source": [
    "def funval(fun,x):\n",
    "  return eval(fun,{'x':x},m.__dict__)"
   ]
  },
  {
   "cell_type": "code",
   "execution_count": null,
   "metadata": {},
   "outputs": [],
   "source": [
    "fun=input(\"Enter the function :\")\n",
    "x1=float(input(\"Enter the first initial guess, x1 = \"))\n",
    "x2=float(input(\"Enter the first initial guess, x2 = \"))\n",
    "\n",
    "if funval(fun,x1)*funval(fun,x2)>0:\n",
    "  print(\"x1 and x2 are not on either side of the root.\")\n",
    "  \n",
    "else:\n",
    "  while True: \n",
    "    x3=(x1+x2)/2\n",
    "    \n",
    "    if funval(fun,x1)*funval(fun,x3)>0:\n",
    "      x1=x3\n",
    "    \n",
    "    elif funval(fun,x1)*funval(fun,x3)<0:\n",
    "      x2=x3\n",
    "      \n",
    "    elif funval(fun,x1)*funval(fun,x2)<1e-8:\n",
    "      print(\"Root is x = \",x3)\n",
    "      break"
   ]
  }
 ],
 "metadata": {
  "kernelspec": {
   "display_name": "Python 3",
   "language": "python",
   "name": "python3"
  },
  "language_info": {
   "codemirror_mode": {
    "name": "ipython",
    "version": 3
   },
   "file_extension": ".py",
   "mimetype": "text/x-python",
   "name": "python",
   "nbconvert_exporter": "python",
   "pygments_lexer": "ipython3",
   "version": "3.12.0"
  }
 },
 "nbformat": 4,
 "nbformat_minor": 2
}
