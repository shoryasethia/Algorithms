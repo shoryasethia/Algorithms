{
 "cells": [
  {
   "cell_type": "code",
   "execution_count": 2,
   "metadata": {},
   "outputs": [
    {
     "name": "stdout",
     "output_type": "stream",
     "text": [
      "Solution: [ 3.  1. -2.  1.]\n"
     ]
    }
   ],
   "source": [
    "import numpy as np\n",
    "\n",
    "def gaussian_elimination(A, b):\n",
    "    n = len(b)\n",
    "    \n",
    "    # Augmented matrix\n",
    "    Ab = np.column_stack((A.astype(float), b.astype(float)))\n",
    "    \n",
    "    # Forward elimination\n",
    "    for i in range(n-1):\n",
    "        # Partial pivoting\n",
    "        max_index = np.argmax(np.abs(Ab[i:, i])) + i\n",
    "        if max_index != i:\n",
    "            Ab[[i, max_index]] = Ab[[max_index, i]]\n",
    "        \n",
    "        # Elimination\n",
    "        for j in range(i+1, n):\n",
    "            factor = Ab[j, i] / Ab[i, i]\n",
    "            Ab[j, i:] -= factor * Ab[i, i:]\n",
    "    \n",
    "    # Back substitution\n",
    "    x = np.zeros(n)\n",
    "    for i in range(n-1, -1, -1):\n",
    "        x[i] = (Ab[i, -1] - np.dot(Ab[i, i+1:n], x[i+1:])) / Ab[i, i]\n",
    "    \n",
    "    return x\n",
    "\n",
    "# Example usage\n",
    "A = np.array([[3, -1, 1, 2],\n",
    "              [6, -4, 3, 5],\n",
    "              [3, -13, 9, 3],\n",
    "              [-6, 4, 1, -18]])\n",
    "b = np.array([8, 13, -19, -34])\n",
    "\n",
    "solution = gaussian_elimination(A, b)\n",
    "print(\"Solution:\", solution)\n"
   ]
  }
 ],
 "metadata": {
  "kernelspec": {
   "display_name": "Python 3",
   "language": "python",
   "name": "python3"
  },
  "language_info": {
   "codemirror_mode": {
    "name": "ipython",
    "version": 3
   },
   "file_extension": ".py",
   "mimetype": "text/x-python",
   "name": "python",
   "nbconvert_exporter": "python",
   "pygments_lexer": "ipython3",
   "version": "3.12.0"
  }
 },
 "nbformat": 4,
 "nbformat_minor": 2
}
