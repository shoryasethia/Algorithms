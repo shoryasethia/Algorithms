{
 "cells": [
  {
   "cell_type": "code",
   "execution_count": 1,
   "metadata": {},
   "outputs": [
    {
     "name": "stdout",
     "output_type": "stream",
     "text": [
      "0.09661652850760917\n",
      "0.8339946273872604\n",
      "0.9477024976851895\n",
      "0.035878594981449935\n",
      "0.011545853229028104\n",
      "0.051155220275351417\n",
      "0.7657871678312249\n",
      "0.5849297393974521\n",
      "0.9141300529773021\n",
      "0.7838003895170057\n"
     ]
    }
   ],
   "source": [
    "class LinearCongruentialGenerator:\n",
    "    def __init__(self, seed=1):\n",
    "        # Parameters for LCG\n",
    "        self.m = 2**31 - 1\n",
    "        self.a = 16807\n",
    "        self.c = 0\n",
    "        self.seed = seed\n",
    "\n",
    "    def generate(self):\n",
    "        # Linear congruential generator formula\n",
    "        self.seed = (self.a * self.seed + self.c) % self.m\n",
    "        return self.seed / self.m  # Normalizing to get a random number between 0 and 1\n",
    "      #return int(self.seed / (self.m / 10))  # Generating integers between 0 and 9\n",
    "      #return int(self.seed / (self.m / 70))  # Generating integers between 0 and 69\n",
    "\n",
    "\n",
    "# Example usage\n",
    "lcg = LinearCongruentialGenerator(seed=12345)  # Setting the seed\n",
    "for _ in range(10):\n",
    "    print(lcg.generate())\n"
   ]
  }
 ],
 "metadata": {
  "kernelspec": {
   "display_name": "Python 3",
   "language": "python",
   "name": "python3"
  },
  "language_info": {
   "codemirror_mode": {
    "name": "ipython",
    "version": 3
   },
   "file_extension": ".py",
   "mimetype": "text/x-python",
   "name": "python",
   "nbconvert_exporter": "python",
   "pygments_lexer": "ipython3",
   "version": "3.12.0"
  }
 },
 "nbformat": 4,
 "nbformat_minor": 2
}
